{
 "cells": [
  {
   "cell_type": "markdown",
   "metadata": {
    "_cell_guid": "b1076dfc-b9ad-4769-8c92-a6c4dae69d19",
    "_uuid": "8f2839f25d086af736a60e9eeb907d3b93b6e0e5"
   },
   "source": [
    "# Import necessary libraries"
   ]
  },
  {
   "cell_type": "markdown",
   "metadata": {},
   "source": []
  },
  {
   "cell_type": "code",
   "execution_count": 1,
   "metadata": {
    "execution": {
     "iopub.execute_input": "2024-04-24T18:08:19.368607Z",
     "iopub.status.busy": "2024-04-24T18:08:19.368105Z",
     "iopub.status.idle": "2024-04-24T18:08:33.655276Z",
     "shell.execute_reply": "2024-04-24T18:08:33.654319Z",
     "shell.execute_reply.started": "2024-04-24T18:08:19.368580Z"
    }
   },
   "outputs": [
    {
     "name": "stderr",
     "output_type": "stream",
     "text": [
      "2024-04-24 18:08:21.526701: E external/local_xla/xla/stream_executor/cuda/cuda_dnn.cc:9261] Unable to register cuDNN factory: Attempting to register factory for plugin cuDNN when one has already been registered\n",
      "2024-04-24 18:08:21.526794: E external/local_xla/xla/stream_executor/cuda/cuda_fft.cc:607] Unable to register cuFFT factory: Attempting to register factory for plugin cuFFT when one has already been registered\n",
      "2024-04-24 18:08:21.696598: E external/local_xla/xla/stream_executor/cuda/cuda_blas.cc:1515] Unable to register cuBLAS factory: Attempting to register factory for plugin cuBLAS when one has already been registered\n"
     ]
    }
   ],
   "source": [
    "import tensorflow as tf\n",
    "from tensorflow.keras.applications import EfficientNetB0, VGG16, ResNet50\n",
    "from tensorflow.keras.models import Sequential\n",
    "from tensorflow.keras.layers import GlobalAveragePooling2D, Dense\n",
    "from tensorflow.keras.optimizers import Adam\n",
    "from tensorflow.keras.preprocessing.image import ImageDataGenerator\n",
    "import os"
   ]
  },
  {
   "cell_type": "markdown",
   "metadata": {},
   "source": [
    "# #Read dataset validation , train ,test"
   ]
  },
  {
   "cell_type": "code",
   "execution_count": 2,
   "metadata": {
    "execution": {
     "iopub.execute_input": "2024-04-24T18:08:33.657976Z",
     "iopub.status.busy": "2024-04-24T18:08:33.657320Z",
     "iopub.status.idle": "2024-04-24T18:08:33.666181Z",
     "shell.execute_reply": "2024-04-24T18:08:33.665177Z",
     "shell.execute_reply.started": "2024-04-24T18:08:33.657941Z"
    }
   },
   "outputs": [],
   "source": [
    "train_data = '/kaggle/input/urecamain/Train'\n",
    "validation_data = '/kaggle/input/urecamain/Vali'\n",
    "test_data = '/kaggle/input/urecamain/Test'"
   ]
  },
  {
   "cell_type": "markdown",
   "metadata": {},
   "source": [
    "# Generate data"
   ]
  },
  {
   "cell_type": "code",
   "execution_count": 3,
   "metadata": {
    "execution": {
     "iopub.execute_input": "2024-04-24T18:08:33.667736Z",
     "iopub.status.busy": "2024-04-24T18:08:33.667365Z",
     "iopub.status.idle": "2024-04-24T18:08:36.844554Z",
     "shell.execute_reply": "2024-04-24T18:08:36.843577Z",
     "shell.execute_reply.started": "2024-04-24T18:08:33.667693Z"
    }
   },
   "outputs": [
    {
     "name": "stdout",
     "output_type": "stream",
     "text": [
      "Found 6003 images belonging to 2 classes.\n",
      "Found 2000 images belonging to 2 classes.\n",
      "Found 2000 images belonging to 2 classes.\n"
     ]
    }
   ],
   "source": [
    "train_datagen = ImageDataGenerator(\n",
    "    rescale=1./255,\n",
    "    shear_range=0.2,\n",
    "    zoom_range=0.2,\n",
    "    horizontal_flip=True\n",
    ")\n",
    "\n",
    "validation_datagen = ImageDataGenerator(rescale=1./255)\n",
    "test_datagen = ImageDataGenerator(rescale=1./255)\n",
    "\n",
    "train_generator = train_datagen.flow_from_directory(\n",
    "    train_data,\n",
    "    target_size=(224, 224),\n",
    "    batch_size=32,\n",
    "    class_mode='binary'\n",
    ")\n",
    "\n",
    "validation_generator = validation_datagen.flow_from_directory(\n",
    "    validation_data,\n",
    "    target_size=(224, 224),\n",
    "    batch_size=32,\n",
    "    class_mode='binary'\n",
    ")\n",
    "\n",
    "test_generator = test_datagen.flow_from_directory(\n",
    "    test_data,\n",
    "    target_size=(224, 224),\n",
    "    batch_size=32,\n",
    "    class_mode='binary'\n",
    ")"
   ]
  },
  {
   "cell_type": "markdown",
   "metadata": {},
   "source": [
    "# Load pretrained Models"
   ]
  },
  {
   "cell_type": "code",
   "execution_count": 4,
   "metadata": {
    "execution": {
     "iopub.execute_input": "2024-04-24T18:08:36.846866Z",
     "iopub.status.busy": "2024-04-24T18:08:36.846558Z",
     "iopub.status.idle": "2024-04-24T18:08:41.912735Z",
     "shell.execute_reply": "2024-04-24T18:08:41.911625Z",
     "shell.execute_reply.started": "2024-04-24T18:08:36.846842Z"
    }
   },
   "outputs": [
    {
     "name": "stdout",
     "output_type": "stream",
     "text": [
      "Downloading data from https://storage.googleapis.com/keras-applications/efficientnetb0_notop.h5\n",
      "\u001b[1m16705208/16705208\u001b[0m \u001b[32m━━━━━━━━━━━━━━━━━━━━\u001b[0m\u001b[37m\u001b[0m \u001b[1m0s\u001b[0m 0us/step\n",
      "Downloading data from https://storage.googleapis.com/tensorflow/keras-applications/vgg16/vgg16_weights_tf_dim_ordering_tf_kernels_notop.h5\n",
      "\u001b[1m58889256/58889256\u001b[0m \u001b[32m━━━━━━━━━━━━━━━━━━━━\u001b[0m\u001b[37m\u001b[0m \u001b[1m0s\u001b[0m 0us/step\n",
      "Downloading data from https://storage.googleapis.com/tensorflow/keras-applications/resnet/resnet50_weights_tf_dim_ordering_tf_kernels_notop.h5\n",
      "\u001b[1m94765736/94765736\u001b[0m \u001b[32m━━━━━━━━━━━━━━━━━━━━\u001b[0m\u001b[37m\u001b[0m \u001b[1m0s\u001b[0m 0us/step\n"
     ]
    }
   ],
   "source": [
    "efficientnet_model = EfficientNetB0(weights='imagenet', include_top=False, input_shape=(224, 224, 3))\n",
    "vgg16_model = VGG16(weights='imagenet', include_top=False, input_shape=(224, 224, 3))\n",
    "resnet50_model = ResNet50(weights='imagenet', include_top=False, input_shape=(224, 224, 3))"
   ]
  },
  {
   "cell_type": "markdown",
   "metadata": {
    "execution": {
     "iopub.execute_input": "2024-04-24T18:03:20.982790Z",
     "iopub.status.busy": "2024-04-24T18:03:20.981844Z",
     "iopub.status.idle": "2024-04-24T18:03:20.987988Z",
     "shell.execute_reply": "2024-04-24T18:03:20.986739Z",
     "shell.execute_reply.started": "2024-04-24T18:03:20.982750Z"
    }
   },
   "source": [
    "# Add classification layers on top of models "
   ]
  },
  {
   "cell_type": "code",
   "execution_count": 5,
   "metadata": {
    "execution": {
     "iopub.execute_input": "2024-04-24T18:08:41.914508Z",
     "iopub.status.busy": "2024-04-24T18:08:41.914183Z",
     "iopub.status.idle": "2024-04-24T18:08:42.149485Z",
     "shell.execute_reply": "2024-04-24T18:08:42.148547Z",
     "shell.execute_reply.started": "2024-04-24T18:08:41.914481Z"
    }
   },
   "outputs": [],
   "source": [
    "model_efficientnet = Sequential([\n",
    "    efficientnet_model,\n",
    "    GlobalAveragePooling2D(),\n",
    "    Dense(128, activation='relu'),\n",
    "    Dense(64,activation='relu'),\n",
    "    Dense(32,activation='relu'),\n",
    "    Dense(16,activation='relu'),\n",
    "    Dense(8,activation='relu'),\n",
    "    Dense(1, activation='sigmoid')  # Binary classification for fire detection\n",
    "])\n",
    "\n",
    "model_vgg16 = Sequential([\n",
    "    vgg16_model,\n",
    "    GlobalAveragePooling2D(),\n",
    "    Dense(128, activation='relu'),\n",
    "      Dense(64,activation='relu'),\n",
    "    Dense(32,activation='relu'),\n",
    "    Dense(16,activation='relu'),\n",
    "    Dense(8,activation='relu'),\n",
    "    Dense(1, activation='sigmoid')\n",
    "])\n",
    "\n",
    "model_resnet50 = Sequential([\n",
    "    resnet50_model,\n",
    "    GlobalAveragePooling2D(),\n",
    "    Dense(128, activation='relu'),\n",
    "    Dense(64,activation='relu'),\n",
    "    Dense(32,activation='relu'),\n",
    "    Dense(16,activation='relu'),\n",
    "    Dense(8,activation='relu'),\n",
    "    Dense(1, activation='sigmoid')\n",
    "])"
   ]
  },
  {
   "cell_type": "markdown",
   "metadata": {},
   "source": [
    "# setup optimizers for all 3 pretrained models"
   ]
  },
  {
   "cell_type": "code",
   "execution_count": 6,
   "metadata": {
    "execution": {
     "iopub.execute_input": "2024-04-24T18:08:42.151230Z",
     "iopub.status.busy": "2024-04-24T18:08:42.150821Z",
     "iopub.status.idle": "2024-04-24T18:08:42.176357Z",
     "shell.execute_reply": "2024-04-24T18:08:42.175465Z",
     "shell.execute_reply.started": "2024-04-24T18:08:42.151194Z"
    }
   },
   "outputs": [],
   "source": [
    "optimizer_efficientnet = Adam(learning_rate=0.01)\n",
    "optimizer_vgg16 = Adam(learning_rate=0.01)\n",
    "optimizer_resnet50 = Adam(learning_rate=0.01)"
   ]
  },
  {
   "cell_type": "markdown",
   "metadata": {},
   "source": [
    "# Compile and train models"
   ]
  },
  {
   "cell_type": "code",
   "execution_count": 10,
   "metadata": {
    "execution": {
     "iopub.execute_input": "2024-04-24T18:30:57.763119Z",
     "iopub.status.busy": "2024-04-24T18:30:57.762372Z",
     "iopub.status.idle": "2024-04-24T20:09:14.335645Z",
     "shell.execute_reply": "2024-04-24T20:09:14.334657Z",
     "shell.execute_reply.started": "2024-04-24T18:30:57.763089Z"
    }
   },
   "outputs": [
    {
     "name": "stdout",
     "output_type": "stream",
     "text": [
      "Epoch 1/25\n",
      "\u001b[1m  1/188\u001b[0m \u001b[37m━━━━━━━━━━━━━━━━━━━━\u001b[0m \u001b[1m3:47:52\u001b[0m 73s/step - accuracy: 0.9375 - loss: 0.1689"
     ]
    },
    {
     "name": "stderr",
     "output_type": "stream",
     "text": [
      "W0000 00:00:1713983531.551447     107 graph_launch.cc:671] Fallback to op-by-op mode because memset node breaks graph update\n"
     ]
    },
    {
     "name": "stdout",
     "output_type": "stream",
     "text": [
      "\u001b[1m105/188\u001b[0m \u001b[32m━━━━━━━━━━━\u001b[0m\u001b[37m━━━━━━━━━\u001b[0m \u001b[1m1:03\u001b[0m 764ms/step - accuracy: 0.9277 - loss: 0.1927"
     ]
    },
    {
     "name": "stderr",
     "output_type": "stream",
     "text": [
      "W0000 00:00:1713983611.087380     109 graph_launch.cc:671] Fallback to op-by-op mode because memset node breaks graph update\n"
     ]
    },
    {
     "name": "stdout",
     "output_type": "stream",
     "text": [
      "\u001b[1m188/188\u001b[0m \u001b[32m━━━━━━━━━━━━━━━━━━━━\u001b[0m\u001b[37m\u001b[0m \u001b[1m0s\u001b[0m 572ms/step - accuracy: 0.9331 - loss: 0.1797"
     ]
    },
    {
     "name": "stderr",
     "output_type": "stream",
     "text": [
      "W0000 00:00:1713983644.198206     107 graph_launch.cc:671] Fallback to op-by-op mode because memset node breaks graph update\n"
     ]
    },
    {
     "name": "stdout",
     "output_type": "stream",
     "text": [
      "\u001b[1m188/188\u001b[0m \u001b[32m━━━━━━━━━━━━━━━━━━━━\u001b[0m\u001b[37m\u001b[0m \u001b[1m192s\u001b[0m 636ms/step - accuracy: 0.9331 - loss: 0.1796 - val_accuracy: 0.8260 - val_loss: 0.4269\n",
      "Epoch 2/25\n"
     ]
    },
    {
     "name": "stderr",
     "output_type": "stream",
     "text": [
      "W0000 00:00:1713983650.591130     108 graph_launch.cc:671] Fallback to op-by-op mode because memset node breaks graph update\n"
     ]
    },
    {
     "name": "stdout",
     "output_type": "stream",
     "text": [
      "\u001b[1m188/188\u001b[0m \u001b[32m━━━━━━━━━━━━━━━━━━━━\u001b[0m\u001b[37m\u001b[0m \u001b[1m70s\u001b[0m 361ms/step - accuracy: 0.9330 - loss: 0.1865 - val_accuracy: 0.9025 - val_loss: 0.2487\n",
      "Epoch 3/25\n",
      "\u001b[1m188/188\u001b[0m \u001b[32m━━━━━━━━━━━━━━━━━━━━\u001b[0m\u001b[37m\u001b[0m \u001b[1m71s\u001b[0m 365ms/step - accuracy: 0.9238 - loss: 0.1990 - val_accuracy: 0.8360 - val_loss: 1.2049\n",
      "Epoch 4/25\n",
      "\u001b[1m188/188\u001b[0m \u001b[32m━━━━━━━━━━━━━━━━━━━━\u001b[0m\u001b[37m\u001b[0m \u001b[1m72s\u001b[0m 366ms/step - accuracy: 0.9413 - loss: 0.1669 - val_accuracy: 0.5980 - val_loss: 1.1572\n",
      "Epoch 5/25\n",
      "\u001b[1m188/188\u001b[0m \u001b[32m━━━━━━━━━━━━━━━━━━━━\u001b[0m\u001b[37m\u001b[0m \u001b[1m72s\u001b[0m 367ms/step - accuracy: 0.9383 - loss: 0.1641 - val_accuracy: 0.9220 - val_loss: 0.1743\n",
      "Epoch 6/25\n",
      "\u001b[1m188/188\u001b[0m \u001b[32m━━━━━━━━━━━━━━━━━━━━\u001b[0m\u001b[37m\u001b[0m \u001b[1m73s\u001b[0m 374ms/step - accuracy: 0.9429 - loss: 0.1470 - val_accuracy: 0.8055 - val_loss: 0.3556\n",
      "Epoch 7/25\n",
      "\u001b[1m188/188\u001b[0m \u001b[32m━━━━━━━━━━━━━━━━━━━━\u001b[0m\u001b[37m\u001b[0m \u001b[1m71s\u001b[0m 363ms/step - accuracy: 0.9514 - loss: 0.1362 - val_accuracy: 0.9435 - val_loss: 0.1543\n",
      "Epoch 8/25\n",
      "\u001b[1m188/188\u001b[0m \u001b[32m━━━━━━━━━━━━━━━━━━━━\u001b[0m\u001b[37m\u001b[0m \u001b[1m71s\u001b[0m 365ms/step - accuracy: 0.9542 - loss: 0.1245 - val_accuracy: 0.9385 - val_loss: 0.1592\n",
      "Epoch 9/25\n",
      "\u001b[1m188/188\u001b[0m \u001b[32m━━━━━━━━━━━━━━━━━━━━\u001b[0m\u001b[37m\u001b[0m \u001b[1m71s\u001b[0m 364ms/step - accuracy: 0.9556 - loss: 0.1322 - val_accuracy: 0.8895 - val_loss: 0.4282\n",
      "Epoch 10/25\n",
      "\u001b[1m188/188\u001b[0m \u001b[32m━━━━━━━━━━━━━━━━━━━━\u001b[0m\u001b[37m\u001b[0m \u001b[1m71s\u001b[0m 365ms/step - accuracy: 0.9555 - loss: 0.1204 - val_accuracy: 0.9025 - val_loss: 0.2867\n",
      "Epoch 11/25\n",
      "\u001b[1m188/188\u001b[0m \u001b[32m━━━━━━━━━━━━━━━━━━━━\u001b[0m\u001b[37m\u001b[0m \u001b[1m73s\u001b[0m 374ms/step - accuracy: 0.9513 - loss: 0.1299 - val_accuracy: 0.5360 - val_loss: 2.1064\n",
      "Epoch 12/25\n",
      "\u001b[1m188/188\u001b[0m \u001b[32m━━━━━━━━━━━━━━━━━━━━\u001b[0m\u001b[37m\u001b[0m \u001b[1m72s\u001b[0m 367ms/step - accuracy: 0.9575 - loss: 0.1188 - val_accuracy: 0.9085 - val_loss: 0.2657\n",
      "Epoch 13/25\n",
      "\u001b[1m188/188\u001b[0m \u001b[32m━━━━━━━━━━━━━━━━━━━━\u001b[0m\u001b[37m\u001b[0m \u001b[1m81s\u001b[0m 364ms/step - accuracy: 0.9409 - loss: 0.1627 - val_accuracy: 0.8805 - val_loss: 0.5282\n",
      "Epoch 14/25\n",
      "\u001b[1m188/188\u001b[0m \u001b[32m━━━━━━━━━━━━━━━━━━━━\u001b[0m\u001b[37m\u001b[0m \u001b[1m74s\u001b[0m 377ms/step - accuracy: 0.9286 - loss: 0.1992 - val_accuracy: 0.9175 - val_loss: 0.4479\n",
      "Epoch 15/25\n",
      "\u001b[1m188/188\u001b[0m \u001b[32m━━━━━━━━━━━━━━━━━━━━\u001b[0m\u001b[37m\u001b[0m \u001b[1m71s\u001b[0m 365ms/step - accuracy: 0.9572 - loss: 0.1129 - val_accuracy: 0.8110 - val_loss: 0.5021\n",
      "Epoch 16/25\n",
      "\u001b[1m188/188\u001b[0m \u001b[32m━━━━━━━━━━━━━━━━━━━━\u001b[0m\u001b[37m\u001b[0m \u001b[1m71s\u001b[0m 366ms/step - accuracy: 0.9580 - loss: 0.1207 - val_accuracy: 0.9225 - val_loss: 0.3066\n",
      "Epoch 17/25\n",
      "\u001b[1m188/188\u001b[0m \u001b[32m━━━━━━━━━━━━━━━━━━━━\u001b[0m\u001b[37m\u001b[0m \u001b[1m72s\u001b[0m 367ms/step - accuracy: 0.9665 - loss: 0.0959 - val_accuracy: 0.9570 - val_loss: 0.1578\n",
      "Epoch 18/25\n",
      "\u001b[1m188/188\u001b[0m \u001b[32m━━━━━━━━━━━━━━━━━━━━\u001b[0m\u001b[37m\u001b[0m \u001b[1m72s\u001b[0m 368ms/step - accuracy: 0.9685 - loss: 0.0895 - val_accuracy: 0.9495 - val_loss: 0.1252\n",
      "Epoch 19/25\n",
      "\u001b[1m188/188\u001b[0m \u001b[32m━━━━━━━━━━━━━━━━━━━━\u001b[0m\u001b[37m\u001b[0m \u001b[1m72s\u001b[0m 369ms/step - accuracy: 0.9669 - loss: 0.0906 - val_accuracy: 0.9185 - val_loss: 0.1704\n",
      "Epoch 20/25\n",
      "\u001b[1m188/188\u001b[0m \u001b[32m━━━━━━━━━━━━━━━━━━━━\u001b[0m\u001b[37m\u001b[0m \u001b[1m72s\u001b[0m 367ms/step - accuracy: 0.9664 - loss: 0.1039 - val_accuracy: 0.9270 - val_loss: 0.2446\n",
      "Epoch 21/25\n",
      "\u001b[1m188/188\u001b[0m \u001b[32m━━━━━━━━━━━━━━━━━━━━\u001b[0m\u001b[37m\u001b[0m \u001b[1m72s\u001b[0m 369ms/step - accuracy: 0.9582 - loss: 0.1177 - val_accuracy: 0.8865 - val_loss: 0.2692\n",
      "Epoch 22/25\n",
      "\u001b[1m188/188\u001b[0m \u001b[32m━━━━━━━━━━━━━━━━━━━━\u001b[0m\u001b[37m\u001b[0m \u001b[1m72s\u001b[0m 371ms/step - accuracy: 0.9526 - loss: 0.1296 - val_accuracy: 0.8640 - val_loss: 0.3142\n",
      "Epoch 23/25\n",
      "\u001b[1m188/188\u001b[0m \u001b[32m━━━━━━━━━━━━━━━━━━━━\u001b[0m\u001b[37m\u001b[0m \u001b[1m71s\u001b[0m 365ms/step - accuracy: 0.9637 - loss: 0.0937 - val_accuracy: 0.9595 - val_loss: 0.1133\n",
      "Epoch 24/25\n",
      "\u001b[1m188/188\u001b[0m \u001b[32m━━━━━━━━━━━━━━━━━━━━\u001b[0m\u001b[37m\u001b[0m \u001b[1m78s\u001b[0m 396ms/step - accuracy: 0.9650 - loss: 0.0936 - val_accuracy: 0.9650 - val_loss: 0.1017\n",
      "Epoch 25/25\n",
      "\u001b[1m188/188\u001b[0m \u001b[32m━━━━━━━━━━━━━━━━━━━━\u001b[0m\u001b[37m\u001b[0m \u001b[1m71s\u001b[0m 363ms/step - accuracy: 0.9771 - loss: 0.0730 - val_accuracy: 0.9540 - val_loss: 0.1289\n",
      "Epoch 1/25\n",
      "\u001b[1m188/188\u001b[0m \u001b[32m━━━━━━━━━━━━━━━━━━━━\u001b[0m\u001b[37m\u001b[0m \u001b[1m90s\u001b[0m 432ms/step - accuracy: 0.5100 - loss: 0.6933 - val_accuracy: 0.5000 - val_loss: 0.6932\n",
      "Epoch 2/25\n",
      "\u001b[1m188/188\u001b[0m \u001b[32m━━━━━━━━━━━━━━━━━━━━\u001b[0m\u001b[37m\u001b[0m \u001b[1m80s\u001b[0m 410ms/step - accuracy: 0.4822 - loss: 0.6938 - val_accuracy: 0.5000 - val_loss: 0.6939\n",
      "Epoch 3/25\n",
      "\u001b[1m188/188\u001b[0m \u001b[32m━━━━━━━━━━━━━━━━━━━━\u001b[0m\u001b[37m\u001b[0m \u001b[1m80s\u001b[0m 410ms/step - accuracy: 0.4833 - loss: 0.6956 - val_accuracy: 0.5000 - val_loss: 0.6934\n",
      "Epoch 4/25\n",
      "\u001b[1m188/188\u001b[0m \u001b[32m━━━━━━━━━━━━━━━━━━━━\u001b[0m\u001b[37m\u001b[0m \u001b[1m80s\u001b[0m 409ms/step - accuracy: 0.5077 - loss: 0.6932 - val_accuracy: 0.5000 - val_loss: 0.6933\n",
      "Epoch 5/25\n",
      "\u001b[1m188/188\u001b[0m \u001b[32m━━━━━━━━━━━━━━━━━━━━\u001b[0m\u001b[37m\u001b[0m \u001b[1m80s\u001b[0m 410ms/step - accuracy: 0.5006 - loss: 0.6933 - val_accuracy: 0.5000 - val_loss: 0.6932\n",
      "Epoch 6/25\n",
      "\u001b[1m188/188\u001b[0m \u001b[32m━━━━━━━━━━━━━━━━━━━━\u001b[0m\u001b[37m\u001b[0m \u001b[1m80s\u001b[0m 411ms/step - accuracy: 0.4917 - loss: 0.6934 - val_accuracy: 0.5000 - val_loss: 0.6932\n",
      "Epoch 7/25\n",
      "\u001b[1m188/188\u001b[0m \u001b[32m━━━━━━━━━━━━━━━━━━━━\u001b[0m\u001b[37m\u001b[0m \u001b[1m81s\u001b[0m 418ms/step - accuracy: 0.5030 - loss: 0.6933 - val_accuracy: 0.5000 - val_loss: 0.6935\n",
      "Epoch 8/25\n",
      "\u001b[1m188/188\u001b[0m \u001b[32m━━━━━━━━━━━━━━━━━━━━\u001b[0m\u001b[37m\u001b[0m \u001b[1m80s\u001b[0m 408ms/step - accuracy: 0.5070 - loss: 0.6932 - val_accuracy: 0.5000 - val_loss: 0.6932\n",
      "Epoch 9/25\n",
      "\u001b[1m188/188\u001b[0m \u001b[32m━━━━━━━━━━━━━━━━━━━━\u001b[0m\u001b[37m\u001b[0m \u001b[1m79s\u001b[0m 406ms/step - accuracy: 0.4907 - loss: 0.6934 - val_accuracy: 0.5000 - val_loss: 0.6932\n",
      "Epoch 10/25\n",
      "\u001b[1m188/188\u001b[0m \u001b[32m━━━━━━━━━━━━━━━━━━━━\u001b[0m\u001b[37m\u001b[0m \u001b[1m79s\u001b[0m 407ms/step - accuracy: 0.4778 - loss: 0.6936 - val_accuracy: 0.5000 - val_loss: 0.6932\n",
      "Epoch 11/25\n",
      "\u001b[1m188/188\u001b[0m \u001b[32m━━━━━━━━━━━━━━━━━━━━\u001b[0m\u001b[37m\u001b[0m \u001b[1m79s\u001b[0m 407ms/step - accuracy: 0.5054 - loss: 0.6934 - val_accuracy: 0.5000 - val_loss: 0.6932\n",
      "Epoch 12/25\n",
      "\u001b[1m188/188\u001b[0m \u001b[32m━━━━━━━━━━━━━━━━━━━━\u001b[0m\u001b[37m\u001b[0m \u001b[1m79s\u001b[0m 407ms/step - accuracy: 0.4957 - loss: 0.6932 - val_accuracy: 0.5000 - val_loss: 0.6933\n",
      "Epoch 13/25\n",
      "\u001b[1m188/188\u001b[0m \u001b[32m━━━━━━━━━━━━━━━━━━━━\u001b[0m\u001b[37m\u001b[0m \u001b[1m79s\u001b[0m 405ms/step - accuracy: 0.4984 - loss: 0.6935 - val_accuracy: 0.5000 - val_loss: 0.6932\n",
      "Epoch 14/25\n",
      "\u001b[1m188/188\u001b[0m \u001b[32m━━━━━━━━━━━━━━━━━━━━\u001b[0m\u001b[37m\u001b[0m \u001b[1m81s\u001b[0m 415ms/step - accuracy: 0.4866 - loss: 0.6936 - val_accuracy: 0.5000 - val_loss: 0.6933\n",
      "Epoch 15/25\n",
      "\u001b[1m188/188\u001b[0m \u001b[32m━━━━━━━━━━━━━━━━━━━━\u001b[0m\u001b[37m\u001b[0m \u001b[1m79s\u001b[0m 404ms/step - accuracy: 0.4969 - loss: 0.6935 - val_accuracy: 0.5000 - val_loss: 0.6931\n",
      "Epoch 16/25\n",
      "\u001b[1m188/188\u001b[0m \u001b[32m━━━━━━━━━━━━━━━━━━━━\u001b[0m\u001b[37m\u001b[0m \u001b[1m79s\u001b[0m 404ms/step - accuracy: 0.5001 - loss: 0.6933 - val_accuracy: 0.5000 - val_loss: 0.6932\n",
      "Epoch 17/25\n",
      "\u001b[1m188/188\u001b[0m \u001b[32m━━━━━━━━━━━━━━━━━━━━\u001b[0m\u001b[37m\u001b[0m \u001b[1m80s\u001b[0m 408ms/step - accuracy: 0.5114 - loss: 0.6930 - val_accuracy: 0.5000 - val_loss: 0.6932\n",
      "Epoch 18/25\n",
      "\u001b[1m188/188\u001b[0m \u001b[32m━━━━━━━━━━━━━━━━━━━━\u001b[0m\u001b[37m\u001b[0m \u001b[1m79s\u001b[0m 405ms/step - accuracy: 0.4996 - loss: 0.6934 - val_accuracy: 0.5000 - val_loss: 0.6931\n",
      "Epoch 19/25\n",
      "\u001b[1m188/188\u001b[0m \u001b[32m━━━━━━━━━━━━━━━━━━━━\u001b[0m\u001b[37m\u001b[0m \u001b[1m80s\u001b[0m 409ms/step - accuracy: 0.5012 - loss: 0.6934 - val_accuracy: 0.5000 - val_loss: 0.6932\n",
      "Epoch 20/25\n",
      "\u001b[1m188/188\u001b[0m \u001b[32m━━━━━━━━━━━━━━━━━━━━\u001b[0m\u001b[37m\u001b[0m \u001b[1m79s\u001b[0m 405ms/step - accuracy: 0.4941 - loss: 0.6935 - val_accuracy: 0.5000 - val_loss: 0.6934\n",
      "Epoch 21/25\n",
      "\u001b[1m188/188\u001b[0m \u001b[32m━━━━━━━━━━━━━━━━━━━━\u001b[0m\u001b[37m\u001b[0m \u001b[1m79s\u001b[0m 406ms/step - accuracy: 0.5077 - loss: 0.6931 - val_accuracy: 0.5000 - val_loss: 0.6933\n",
      "Epoch 22/25\n",
      "\u001b[1m188/188\u001b[0m \u001b[32m━━━━━━━━━━━━━━━━━━━━\u001b[0m\u001b[37m\u001b[0m \u001b[1m79s\u001b[0m 407ms/step - accuracy: 0.4976 - loss: 0.6936 - val_accuracy: 0.5000 - val_loss: 0.6932\n",
      "Epoch 23/25\n",
      "\u001b[1m188/188\u001b[0m \u001b[32m━━━━━━━━━━━━━━━━━━━━\u001b[0m\u001b[37m\u001b[0m \u001b[1m79s\u001b[0m 408ms/step - accuracy: 0.4950 - loss: 0.6934 - val_accuracy: 0.5000 - val_loss: 0.6932\n",
      "Epoch 24/25\n",
      "\u001b[1m188/188\u001b[0m \u001b[32m━━━━━━━━━━━━━━━━━━━━\u001b[0m\u001b[37m\u001b[0m \u001b[1m79s\u001b[0m 406ms/step - accuracy: 0.5013 - loss: 0.6934 - val_accuracy: 0.5000 - val_loss: 0.6932\n",
      "Epoch 25/25\n",
      "\u001b[1m188/188\u001b[0m \u001b[32m━━━━━━━━━━━━━━━━━━━━\u001b[0m\u001b[37m\u001b[0m \u001b[1m79s\u001b[0m 405ms/step - accuracy: 0.4912 - loss: 0.6935 - val_accuracy: 0.5000 - val_loss: 0.6932\n",
      "Epoch 1/25\n"
     ]
    },
    {
     "name": "stderr",
     "output_type": "stream",
     "text": [
      "W0000 00:00:1713987435.299106     107 graph_launch.cc:671] Fallback to op-by-op mode because memset node breaks graph update\n"
     ]
    },
    {
     "name": "stdout",
     "output_type": "stream",
     "text": [
      "\u001b[1m107/188\u001b[0m \u001b[32m━━━━━━━━━━━\u001b[0m\u001b[37m━━━━━━━━━\u001b[0m \u001b[1m44s\u001b[0m 555ms/step - accuracy: 0.5056 - loss: 0.6932"
     ]
    },
    {
     "name": "stderr",
     "output_type": "stream",
     "text": [
      "W0000 00:00:1713987494.212779     107 graph_launch.cc:671] Fallback to op-by-op mode because memset node breaks graph update\n"
     ]
    },
    {
     "name": "stdout",
     "output_type": "stream",
     "text": [
      "\u001b[1m188/188\u001b[0m \u001b[32m━━━━━━━━━━━━━━━━━━━━\u001b[0m\u001b[37m\u001b[0m \u001b[1m0s\u001b[0m 465ms/step - accuracy: 0.5050 - loss: 0.6932"
     ]
    },
    {
     "name": "stderr",
     "output_type": "stream",
     "text": [
      "W0000 00:00:1713987526.715533     109 graph_launch.cc:671] Fallback to op-by-op mode because memset node breaks graph update\n"
     ]
    },
    {
     "name": "stdout",
     "output_type": "stream",
     "text": [
      "\u001b[1m188/188\u001b[0m \u001b[32m━━━━━━━━━━━━━━━━━━━━\u001b[0m\u001b[37m\u001b[0m \u001b[1m149s\u001b[0m 525ms/step - accuracy: 0.5050 - loss: 0.6932 - val_accuracy: 0.5000 - val_loss: 0.6935\n",
      "Epoch 2/25\n"
     ]
    },
    {
     "name": "stderr",
     "output_type": "stream",
     "text": [
      "W0000 00:00:1713987533.822628     109 graph_launch.cc:671] Fallback to op-by-op mode because memset node breaks graph update\n"
     ]
    },
    {
     "name": "stdout",
     "output_type": "stream",
     "text": [
      "\u001b[1m188/188\u001b[0m \u001b[32m━━━━━━━━━━━━━━━━━━━━\u001b[0m\u001b[37m\u001b[0m \u001b[1m76s\u001b[0m 387ms/step - accuracy: 0.4995 - loss: 0.6934 - val_accuracy: 0.5000 - val_loss: 0.6932\n",
      "Epoch 3/25\n",
      "\u001b[1m188/188\u001b[0m \u001b[32m━━━━━━━━━━━━━━━━━━━━\u001b[0m\u001b[37m\u001b[0m \u001b[1m74s\u001b[0m 381ms/step - accuracy: 0.4874 - loss: 0.6935 - val_accuracy: 0.5000 - val_loss: 0.6932\n",
      "Epoch 4/25\n",
      "\u001b[1m188/188\u001b[0m \u001b[32m━━━━━━━━━━━━━━━━━━━━\u001b[0m\u001b[37m\u001b[0m \u001b[1m83s\u001b[0m 386ms/step - accuracy: 0.4950 - loss: 0.6936 - val_accuracy: 0.5000 - val_loss: 0.6932\n",
      "Epoch 5/25\n",
      "\u001b[1m188/188\u001b[0m \u001b[32m━━━━━━━━━━━━━━━━━━━━\u001b[0m\u001b[37m\u001b[0m \u001b[1m75s\u001b[0m 385ms/step - accuracy: 0.5030 - loss: 0.6933 - val_accuracy: 0.5000 - val_loss: 0.6933\n",
      "Epoch 6/25\n",
      "\u001b[1m188/188\u001b[0m \u001b[32m━━━━━━━━━━━━━━━━━━━━\u001b[0m\u001b[37m\u001b[0m \u001b[1m75s\u001b[0m 382ms/step - accuracy: 0.4930 - loss: 0.6934 - val_accuracy: 0.5000 - val_loss: 0.6932\n",
      "Epoch 7/25\n",
      "\u001b[1m188/188\u001b[0m \u001b[32m━━━━━━━━━━━━━━━━━━━━\u001b[0m\u001b[37m\u001b[0m \u001b[1m77s\u001b[0m 395ms/step - accuracy: 0.5015 - loss: 0.6933 - val_accuracy: 0.5000 - val_loss: 0.6932\n",
      "Epoch 8/25\n",
      "\u001b[1m188/188\u001b[0m \u001b[32m━━━━━━━━━━━━━━━━━━━━\u001b[0m\u001b[37m\u001b[0m \u001b[1m76s\u001b[0m 390ms/step - accuracy: 0.4932 - loss: 0.6933 - val_accuracy: 0.5000 - val_loss: 0.6934\n",
      "Epoch 9/25\n",
      "\u001b[1m188/188\u001b[0m \u001b[32m━━━━━━━━━━━━━━━━━━━━\u001b[0m\u001b[37m\u001b[0m \u001b[1m75s\u001b[0m 385ms/step - accuracy: 0.5039 - loss: 0.6932 - val_accuracy: 0.5000 - val_loss: 0.6932\n",
      "Epoch 10/25\n",
      "\u001b[1m188/188\u001b[0m \u001b[32m━━━━━━━━━━━━━━━━━━━━\u001b[0m\u001b[37m\u001b[0m \u001b[1m75s\u001b[0m 384ms/step - accuracy: 0.5156 - loss: 0.6932 - val_accuracy: 0.5000 - val_loss: 0.6936\n",
      "Epoch 11/25\n",
      "\u001b[1m188/188\u001b[0m \u001b[32m━━━━━━━━━━━━━━━━━━━━\u001b[0m\u001b[37m\u001b[0m \u001b[1m76s\u001b[0m 388ms/step - accuracy: 0.5007 - loss: 0.6935 - val_accuracy: 0.5000 - val_loss: 0.6931\n",
      "Epoch 12/25\n",
      "\u001b[1m188/188\u001b[0m \u001b[32m━━━━━━━━━━━━━━━━━━━━\u001b[0m\u001b[37m\u001b[0m \u001b[1m76s\u001b[0m 387ms/step - accuracy: 0.4962 - loss: 0.6935 - val_accuracy: 0.5000 - val_loss: 0.6932\n",
      "Epoch 13/25\n",
      "\u001b[1m188/188\u001b[0m \u001b[32m━━━━━━━━━━━━━━━━━━━━\u001b[0m\u001b[37m\u001b[0m \u001b[1m76s\u001b[0m 389ms/step - accuracy: 0.4972 - loss: 0.6934 - val_accuracy: 0.5000 - val_loss: 0.6932\n",
      "Epoch 14/25\n",
      "\u001b[1m188/188\u001b[0m \u001b[32m━━━━━━━━━━━━━━━━━━━━\u001b[0m\u001b[37m\u001b[0m \u001b[1m76s\u001b[0m 390ms/step - accuracy: 0.4938 - loss: 0.6934 - val_accuracy: 0.5000 - val_loss: 0.6931\n",
      "Epoch 15/25\n",
      "\u001b[1m188/188\u001b[0m \u001b[32m━━━━━━━━━━━━━━━━━━━━\u001b[0m\u001b[37m\u001b[0m \u001b[1m76s\u001b[0m 390ms/step - accuracy: 0.4861 - loss: 0.6934 - val_accuracy: 0.5000 - val_loss: 0.6932\n",
      "Epoch 16/25\n",
      "\u001b[1m188/188\u001b[0m \u001b[32m━━━━━━━━━━━━━━━━━━━━\u001b[0m\u001b[37m\u001b[0m \u001b[1m76s\u001b[0m 388ms/step - accuracy: 0.4944 - loss: 0.6933 - val_accuracy: 0.5000 - val_loss: 0.6932\n",
      "Epoch 17/25\n",
      "\u001b[1m188/188\u001b[0m \u001b[32m━━━━━━━━━━━━━━━━━━━━\u001b[0m\u001b[37m\u001b[0m \u001b[1m75s\u001b[0m 384ms/step - accuracy: 0.4999 - loss: 0.6933 - val_accuracy: 0.5000 - val_loss: 0.6931\n",
      "Epoch 18/25\n",
      "\u001b[1m188/188\u001b[0m \u001b[32m━━━━━━━━━━━━━━━━━━━━\u001b[0m\u001b[37m\u001b[0m \u001b[1m76s\u001b[0m 390ms/step - accuracy: 0.4875 - loss: 0.6933 - val_accuracy: 0.5000 - val_loss: 0.6931\n",
      "Epoch 19/25\n",
      "\u001b[1m188/188\u001b[0m \u001b[32m━━━━━━━━━━━━━━━━━━━━\u001b[0m\u001b[37m\u001b[0m \u001b[1m75s\u001b[0m 387ms/step - accuracy: 0.5176 - loss: 0.6930 - val_accuracy: 0.5000 - val_loss: 0.6942\n",
      "Epoch 20/25\n",
      "\u001b[1m188/188\u001b[0m \u001b[32m━━━━━━━━━━━━━━━━━━━━\u001b[0m\u001b[37m\u001b[0m \u001b[1m74s\u001b[0m 382ms/step - accuracy: 0.5120 - loss: 0.6931 - val_accuracy: 0.5000 - val_loss: 0.6931\n",
      "Epoch 21/25\n",
      "\u001b[1m188/188\u001b[0m \u001b[32m━━━━━━━━━━━━━━━━━━━━\u001b[0m\u001b[37m\u001b[0m \u001b[1m76s\u001b[0m 389ms/step - accuracy: 0.4972 - loss: 0.6934 - val_accuracy: 0.5000 - val_loss: 0.6934\n",
      "Epoch 22/25\n",
      "\u001b[1m188/188\u001b[0m \u001b[32m━━━━━━━━━━━━━━━━━━━━\u001b[0m\u001b[37m\u001b[0m \u001b[1m75s\u001b[0m 385ms/step - accuracy: 0.4976 - loss: 0.6936 - val_accuracy: 0.5000 - val_loss: 0.6932\n",
      "Epoch 23/25\n",
      "\u001b[1m188/188\u001b[0m \u001b[32m━━━━━━━━━━━━━━━━━━━━\u001b[0m\u001b[37m\u001b[0m \u001b[1m76s\u001b[0m 389ms/step - accuracy: 0.4895 - loss: 0.6935 - val_accuracy: 0.5000 - val_loss: 0.6932\n",
      "Epoch 24/25\n",
      "\u001b[1m188/188\u001b[0m \u001b[32m━━━━━━━━━━━━━━━━━━━━\u001b[0m\u001b[37m\u001b[0m \u001b[1m76s\u001b[0m 391ms/step - accuracy: 0.4975 - loss: 0.6934 - val_accuracy: 0.5000 - val_loss: 0.6932\n",
      "Epoch 25/25\n",
      "\u001b[1m188/188\u001b[0m \u001b[32m━━━━━━━━━━━━━━━━━━━━\u001b[0m\u001b[37m\u001b[0m \u001b[1m76s\u001b[0m 389ms/step - accuracy: 0.4990 - loss: 0.6932 - val_accuracy: 0.5000 - val_loss: 0.6932\n"
     ]
    },
    {
     "data": {
      "text/plain": [
       "<keras.src.callbacks.history.History at 0x7c656f92f040>"
      ]
     },
     "execution_count": 10,
     "metadata": {},
     "output_type": "execute_result"
    }
   ],
   "source": [
    "loss_function = 'binary_crossentropy'\n",
    "metrics = ['accuracy']\n",
    "model_efficientnet.compile(optimizer=optimizer_efficientnet, loss=loss_function, metrics=metrics)\n",
    "model_vgg16.compile(optimizer=optimizer_vgg16, loss=loss_function, metrics=metrics)\n",
    "model_resnet50.compile(optimizer=optimizer_resnet50, loss=loss_function, metrics=metrics)\n",
    "epochs = 25\n",
    "model_efficientnet.fit(train_generator, epochs=epochs, validation_data=validation_generator)\n",
    "model_vgg16.fit(train_generator, epochs=epochs, validation_data=validation_generator)\n",
    "model_resnet50.fit(train_generator, epochs=epochs, validation_data=validation_generator)"
   ]
  },
  {
   "cell_type": "markdown",
   "metadata": {},
   "source": [
    "# Print best Model"
   ]
  },
  {
   "cell_type": "code",
   "execution_count": 11,
   "metadata": {
    "execution": {
     "iopub.execute_input": "2024-04-24T20:09:14.337497Z",
     "iopub.status.busy": "2024-04-24T20:09:14.337175Z",
     "iopub.status.idle": "2024-04-24T20:09:33.583433Z",
     "shell.execute_reply": "2024-04-24T20:09:33.582513Z",
     "shell.execute_reply.started": "2024-04-24T20:09:14.337470Z"
    }
   },
   "outputs": [
    {
     "name": "stdout",
     "output_type": "stream",
     "text": [
      "\u001b[1m63/63\u001b[0m \u001b[32m━━━━━━━━━━━━━━━━━━━━\u001b[0m\u001b[37m\u001b[0m \u001b[1m6s\u001b[0m 95ms/step - accuracy: 0.9586 - loss: 0.1414\n",
      "\u001b[1m63/63\u001b[0m \u001b[32m━━━━━━━━━━━━━━━━━━━━\u001b[0m\u001b[37m\u001b[0m \u001b[1m7s\u001b[0m 116ms/step - accuracy: 0.4992 - loss: 0.6932\n",
      "\u001b[1m63/63\u001b[0m \u001b[32m━━━━━━━━━━━━━━━━━━━━\u001b[0m\u001b[37m\u001b[0m \u001b[1m5s\u001b[0m 84ms/step - accuracy: 0.4806 - loss: 0.6933\n",
      "Best Model: EfficientNetB0\n",
      "Best Accuracy: 0.9580000042915344\n"
     ]
    }
   ],
   "source": [
    "eval_results = {}\n",
    "for model_name, model in zip(['EfficientNetB0', 'VGG16', 'ResNet50'], [model_efficientnet, model_vgg16, model_resnet50]):\n",
    "    eval_results[model_name] = model.evaluate(test_generator)[1]  # Store only the accuracy\n",
    "best_model = max(eval_results, key=eval_results.get)\n",
    "best_accuracy = eval_results[best_model]\n",
    "print(\"Best Model:\", best_model)\n",
    "print(\"Best Accuracy:\", best_accuracy)"
   ]
  },
  {
   "cell_type": "markdown",
   "metadata": {},
   "source": []
  },
  {
   "cell_type": "markdown",
   "metadata": {},
   "source": []
  }
 ],
 "metadata": {
  "kaggle": {
   "accelerator": "nvidiaTeslaT4",
   "dataSources": [
    {
     "datasetId": 685533,
     "sourceId": 1202495,
     "sourceType": "datasetVersion"
    }
   ],
   "dockerImageVersionId": 30699,
   "isGpuEnabled": true,
   "isInternetEnabled": true,
   "language": "python",
   "sourceType": "notebook"
  },
  "kernelspec": {
   "display_name": "Python 3 (ipykernel)",
   "language": "python",
   "name": "python3"
  },
  "language_info": {
   "codemirror_mode": {
    "name": "ipython",
    "version": 3
   },
   "file_extension": ".py",
   "mimetype": "text/x-python",
   "name": "python",
   "nbconvert_exporter": "python",
   "pygments_lexer": "ipython3",
   "version": "3.11.4"
  },
  "varInspector": {
   "cols": {
    "lenName": 16,
    "lenType": 16,
    "lenVar": 40
   },
   "kernels_config": {
    "python": {
     "delete_cmd_postfix": "",
     "delete_cmd_prefix": "del ",
     "library": "var_list.py",
     "varRefreshCmd": "print(var_dic_list())"
    },
    "r": {
     "delete_cmd_postfix": ") ",
     "delete_cmd_prefix": "rm(",
     "library": "var_list.r",
     "varRefreshCmd": "cat(var_dic_list()) "
    }
   },
   "types_to_exclude": [
    "module",
    "function",
    "builtin_function_or_method",
    "instance",
    "_Feature"
   ],
   "window_display": false
  }
 },
 "nbformat": 4,
 "nbformat_minor": 4
}
